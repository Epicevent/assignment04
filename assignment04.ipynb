{
 "cells": [
  {
   "cell_type": "markdown",
   "metadata": {},
   "source": [
    "# assignment04"
   ]
  },
  {
   "cell_type": "markdown",
   "metadata": {},
   "source": [
    "name : rocky Kim"
   ]
  },
  {
   "cell_type": "markdown",
   "metadata": {},
   "source": [
    "student ID : 20152424"
   ]
  },
  {
   "cell_type": "markdown",
   "metadata": {},
   "source": [
    "Git Address :"
   ]
  },
  {
   "cell_type": "markdown",
   "metadata": {},
   "source": [
    "https://github.com/Epicevent/assignment04"
   ]
  },
  {
   "cell_type": "markdown",
   "metadata": {},
   "source": [
    "# import packages and load data from \"mnist_test.csv\""
   ]
  },
  {
   "cell_type": "code",
   "execution_count": 1,
   "metadata": {},
   "outputs": [],
   "source": [
    "import matplotlib.pyplot as plt\n",
    "import numpy as np\n",
    "file_data = \"mnist_test.csv\"\n",
    "handle_file = open(file_data, \"r\")\n",
    "global_data = handle_file.readlines()\n",
    "handle_file.close()\n",
    "\n",
    "size_row = 28  # height of the image\n",
    "size_col = 28  # width of the image\n",
    "count = 0\n",
    "global_number_of_cluster = 10\n",
    "global_num_image = len(global_data)\n",
    "global_energy = list()\n",
    "global_accuracy = list()"
   ]
  },
  {
   "cell_type": "markdown",
   "metadata": {},
   "source": [
    "# variable Summary"
   ]
  },
  {
   "cell_type": "markdown",
   "metadata": {},
   "source": [
    " \n",
    "global_energy : list consist of energy value of each step\n",
    "global_accuracy : list consist of accuracy value of each step\n",
    "global_centroid : center image of each label\n",
    "\n",
    "                  numpy array (dtype: float ) \n",
    "                  shape : (global_number_of_cluster , (size_row* size_col) )\n",
    "\n",
    "global_energy_matrix : numpy 2d array for caculating total energy and assigning new label.\n",
    "\n",
    "                       definition >  \n",
    "                       global_energy_matrix[i,j] = Euclidean Squared Distance[ith center,jth image] \n",
    "\n",
    "Euclidean Squared Distance is defined as\n",
    "\n",
    "$$\\sum_{i=0}^{n}{ (x_i - y_i)^2}$$\n",
    "\n",
    "global_list_label_true   : the standard label for computing accuracy           "
   ]
  },
  {
   "cell_type": "markdown",
   "metadata": {},
   "source": [
    "global_list_label_Kmean : the label from Kmean clustering algorithm \n",
    "\n",
    "                    definition > it is numpy array (dtype : int)\n",
    "                    shape: ( number_of_image ,)\n",
    "                    global_list_label[i] = the label of ith image\n",
    " \n",
    "global_list_label_function : the np array to represent the function \n",
    "(it is not actually function!)\n",
    "\n",
    "let f :global_list_label_function $X_{accuracy\\_low} \\to X_{accuracy\\_high} $ (  bijective function )\n",
    "\n",
    "  $$X = \\{ 0,1,...,number\\_of\\_cluster-1 \\} $$\n",
    "purpose to use : to permutate label to caculate proper accuracy\n",
    "it does not affect In clustering result\n",
    "but it does affect in accuracy , \n",
    "forexample, if the list of label_kmean is {0 ,0 ,1 ,2 ,2 , 2} and the list of label_true is \n",
    "{2 ,2 ,1 ,0 ,0 ,0}   : assuming number_of_cluster = 3, number_of_image =6\n",
    "   in that case we need to convert label_kmean to maximize accuracy\n",
    "   $0\\to2$,  $1\\to1$(no change), $2\\to0$ \n",
    "   it says global_list_label_function = np.array([ 2, 1, 0 ]) \n",
    "   note that :  new_label = global_list_label_function[ old_label ]\n"
   ]
  },
  {
   "cell_type": "markdown",
   "metadata": {},
   "source": [
    "# Constant Summary\n",
    "\n",
    "## size_row = 28  # height of the image\n",
    "## size_col = 28  # width of the image\n",
    "## global_number_of_cluster = 10 \n",
    "## global_num_image = 10000"
   ]
  },
  {
   "cell_type": "markdown",
   "metadata": {},
   "source": [
    "# Fucntion Summary\n",
    "\n",
    "## the given function and code by eclass\n",
    "\n",
    "## normalize(data)\n",
    "\n",
    "#### : data normalize\n",
    "\n",
    "## code for Reading File\n",
    "\n",
    "#### : cvs file read \n",
    "\n",
    "## distance(x,y)\n",
    "\n",
    "#### :distance calcaulation between x vector and y vector"
   ]
  },
  {
   "cell_type": "markdown",
   "metadata": {},
   "source": [
    "## my function\n",
    "\n",
    " initialise_label(number_of_clusters, number_of_points):\n",
    "\n",
    " compute_centroid(number_of_cluster, list_label, list_image):\n",
    " requested function for this function \n",
    " compute_bool_table_label(number_of_cluster, list_label):\n",
    " compute_accuracy(list_label, list_true_label, number_of_cluster):\n",
    " requested function for this function \n",
    " compute_bool_table_label(number_of_cluster, list_label):\n",
    " inner function \n",
    " rowswap_potential(row_index_i, row_index_j): outter var:  RIprime\n",
    " getnext_indextuple(i, j): outter var: number_of_cluster\n",
    "\n",
    "  compute_energy(energy_matrix, list_label):\n",
    " requested function for this function\n",
    " cauclate_energy_matrix(centroid, list_image):\n",
    "\n",
    " assign_label(energy_matrix):\n",
    " requested function for this function\n",
    " cauclate_energy_matrix(centroid, list_image):"
   ]
  },
  {
   "cell_type": "markdown",
   "metadata": {},
   "source": [
    "# make image list from file data"
   ]
  },
  {
   "cell_type": "code",
   "execution_count": 2,
   "metadata": {},
   "outputs": [],
   "source": [
    "# normalize the values of the input data to be [0, 1]\n",
    "#\n",
    "def normalize(data):\n",
    "    data_normalized = (data - min(data)) / (max(data) - min(data))\n",
    "\n",
    "    return data_normalized\n",
    "\n",
    "\n",
    "#\n",
    "# example of distance function between two vectors x and y\n",
    "#\n",
    "def distance(x, y):\n",
    "    d = (x - y) ** 2\n",
    "    s = np.sum(d)\n",
    "    # r = np.sqrt(s)\n",
    "\n",
    "    return s\n",
    "\n",
    "\n",
    "#\n",
    "# make a matrix each column of which represents an images in a vector form\n",
    "#\n",
    "global_list_image = np.empty((size_row * size_col, global_num_image), dtype=float)\n",
    "global_list_label_true = np.empty(global_num_image, dtype=int)\n",
    "\n",
    "for line in global_data:\n",
    "    line_data = line.split(',')\n",
    "    global_label = line_data[0]\n",
    "    im_vector = np.asfarray(line_data[1:])\n",
    "    im_vector = normalize(im_vector)\n",
    "\n",
    "    global_list_label_true[count] = global_label\n",
    "    global_list_image[:, count] = im_vector\n",
    "\n",
    "    count += 1"
   ]
  },
  {
   "cell_type": "markdown",
   "metadata": {},
   "source": [
    "# define function for initialize label "
   ]
  },
  {
   "cell_type": "code",
   "execution_count": 3,
   "metadata": {},
   "outputs": [],
   "source": [
    "def initialise_label(number_of_clusters, number_of_points):\n",
    "    wellinitialised = False\n",
    "    while wellinitialised == False: # initialize label until wellinitialized\n",
    "        init_labels = np.random.randint(number_of_clusters, size=(1, number_of_points))\n",
    "        wellinitialised = True\n",
    "        # well initiallized if every label (i) exist\n",
    "        for i in range(number_of_clusters):\n",
    "            tag = 0\n",
    "            for j in range(number_of_points):\n",
    "                if init_labels[0][j] == i:\n",
    "                    tag=1 # the label i is exist\n",
    "                    continue\n",
    "            if tag == 0:\n",
    "                wellinitialised = False # the label i in not exist \n",
    "                break\n",
    "    return init_labels[0] # it returns the np.array whose shape is (number_of_points ,)"
   ]
  },
  {
   "cell_type": "markdown",
   "metadata": {},
   "source": [
    "# define function for compute center and plot center image"
   ]
  },
  {
   "cell_type": "code",
   "execution_count": 4,
   "metadata": {},
   "outputs": [],
   "source": [
    "def compute_bool_table_label(number_of_cluster, list_label):\n",
    "    # for compute center and label accuracy\n",
    "    # it returns true false table that represents list_label\n",
    "    # forexample if the list_label [0 1 2 0 1 2 ... ] \n",
    "    # the true false tabel is\n",
    "    \n",
    "    # [[T F F T F F T F F ...],\n",
    "    #  [F T F F T F F T F ...],\n",
    "    #  [F F T F F T F F T ...] ]\n",
    "    \n",
    "    num_image = np.shape(list_label)[0]\n",
    "    condition = np.zeros((number_of_cluster, num_image), dtype=bool)\n",
    "    for label in range(number_of_cluster):\n",
    "        condition[label, :] = (list_label == label)\n",
    "    return condition\n",
    "\n",
    "\n",
    "def compute_centroid(number_of_cluster, list_label, list_image):\n",
    "    bool_table_label = compute_bool_table_label(number_of_cluster, list_label)\n",
    "    im_average = np.zeros((size_row * size_col, number_of_cluster), dtype=float)\n",
    "    # size_row and size_col is global variable \n",
    "    for label in range(number_of_cluster):\n",
    "        im_average[:, label] = np.average(list_image[:, bool_table_label[label, :]], axis=1)\n",
    "    # since we have the bool_table, it works in only 2 line!!\n",
    "    \n",
    "    return im_average\n",
    "\n",
    "\n",
    "def plot_centroid_image(centroid):\n",
    "    number_of_cluster = np.shape(centroid)[1]\n",
    "    for i in range(number_of_cluster):\n",
    "        plt.subplot(2, 5, i + 1) # assume number_of_cluster cannot exeed 10 (=2*5)\n",
    "        plt.title(i)\n",
    "        plt.imshow(centroid[:, i].reshape((size_row, size_col)), cmap='Greys', interpolation='None')\n",
    "        frame = plt.gca()\n",
    "        frame.axes.get_xaxis().set_visible(False)\n",
    "        frame.axes.get_yaxis().set_visible(False)"
   ]
  },
  {
   "cell_type": "markdown",
   "metadata": {},
   "source": [
    "# initialize label and plot centroid "
   ]
  },
  {
   "cell_type": "code",
   "execution_count": 5,
   "metadata": {},
   "outputs": [
    {
     "data": {
      "image/png": "[encoded data removed]",
      "text/plain": [
       "<Figure size 432x288 with 10 Axes>"
      ]
     },
     "metadata": {},
     "output_type": "display_data"
    }
   ],
   "source": [
    "global_list_label_Kmean = initialise_label(global_number_of_cluster, global_num_image)\n",
    "global_centroid = compute_centroid(global_number_of_cluster, global_list_label_Kmean, global_list_image)\n",
    "f1 = plt.figure(1)\n",
    "plot_centroid_image(global_centroid)"
   ]
  },
  {
   "cell_type": "markdown",
   "metadata": {},
   "source": [
    "# caculate accuracy of init label\n",
    "## define accuracy function"
   ]
  },
  {
   "cell_type": "code",
   "execution_count": 6,
   "metadata": {},
   "outputs": [],
   "source": [
    "def compute_accuracy(list_label, list_true_label, number_of_cluster):\n",
    "    set_klabel = compute_bool_table_label(number_of_cluster, list_label)\n",
    "    set_true_label = compute_bool_table_label(number_of_cluster, list_true_label)\n",
    "    \"\"\"\n",
    "     The label list of kmean algorithm may differ from true label list even if clustering is perfect \n",
    "     on basis of true label.\n",
    "\n",
    "     forexample , there is the image list clustered by label 0 but consist of '2' shape. \n",
    "     In this situation , we think [label 0] represent number 2. \n",
    "\n",
    "     so, we can make the function :labelfunction \n",
    "     [0,...,KmeanLastLabel=9] to [0,...,LastLabel=9] ,one to one ,onto.\n",
    "     in above situation labelfunction[0] = 2 . \"0\" is represent of 2.\n",
    "\n",
    "      let T = number_of_cluster .\n",
    "      sum_of_true_positive = \\sum\\limits_{i=0}^{T}{ TP[i,labelfunction[i]]}\n",
    "      F1score = harmonic_average(precision ,recall)  ...because of several reasons \n",
    "       = sum_of_true_positive / number_of_image\n",
    "     \"\"\"\n",
    "    number_of_image = np.shape(set_klabel)[1]\n",
    "    # conpute RI * number_of_image\n",
    "    TP = np.empty((number_of_cluster, number_of_cluster), dtype=float)\n",
    "    for i in range(number_of_cluster):\n",
    "        for j in range(number_of_cluster):\n",
    "            TP[i, j] = np.sum(np.logical_and(set_klabel[j, :], set_true_label[i, :]))\n",
    "    # since labelfunction is onetoone onto function It canbe represented by\n",
    "    # permutation function : i.e. composition of Transpositions\n",
    "    # Note that the number of Transpositions of [0,..,9] -> [0,..,9] is 45\n",
    "    # It's very small number compared to 3628800 ( 10! )\n",
    "    # multiply elementry matrixs (that represents Transposition) on left of RI and\n",
    "    # get diogonal element of RI' = (U_k * ``` * U_1)*RI where    (U_k * ``` * U_1)=L is the labelfunction matrix\n",
    "    # where [labelfunction(0),labelfunction(1),...labelfunction(9)].T = L[0,1,...,9].T\n",
    "    # We can take assumtion that RI' has maximum trace\n",
    "    RIprime = np.copy(TP)\n",
    "\n",
    "    def rowswap_potential(row_index_i, row_index_j):\n",
    "        start_value = RIprime[row_index_i, row_index_i] + RIprime[row_index_j, row_index_j]\n",
    "        end_value = RIprime[row_index_j, row_index_i] + RIprime[row_index_i, row_index_j]\n",
    "        return end_value - start_value\n",
    "\n",
    "    def getnext_indextuple(i, j):\n",
    "        if i < j:\n",
    "            rei, rej = i, j\n",
    "        else:\n",
    "            rei, rej = j, i\n",
    "        if rej + 1 == number_of_cluster:\n",
    "            rei += 1\n",
    "            rej = rei + 1\n",
    "        else:\n",
    "            rej += 1\n",
    "        if rei == number_of_cluster - 1:\n",
    "            return 0, 1\n",
    "        return rei, rej\n",
    "\n",
    "    indextuple = (0, 1)\n",
    "    preventinfinityloops = 0\n",
    "    np.array(range(number_of_cluster))\n",
    "    Labelfunction = np.array(range(number_of_cluster))\n",
    "    while True:\n",
    "        if preventinfinityloops < 3628800:\n",
    "            preventinfinityloops += 1\n",
    "        else:\n",
    "            print(\"Infinity LOOP ERROR\")\n",
    "            break\n",
    "        if indextuple == (0, 1):\n",
    "            count = 0\n",
    "        if rowswap_potential(*indextuple) > 0:\n",
    "            temp_for_irow = np.copy(RIprime[indextuple[0], :])\n",
    "            RIprime[indextuple[0], :] = RIprime[indextuple[1], :]\n",
    "            RIprime[indextuple[1], :] = temp_for_irow\n",
    "            temp = Labelfunction[indextuple[0]]\n",
    "            Labelfunction[indextuple[0]]=Labelfunction[indextuple[1]]\n",
    "            Labelfunction[indextuple[1]] = temp\n",
    "            count += 1\n",
    "        indextuple = getnext_indextuple(*indextuple)\n",
    "        if indextuple == (0, 1) and count == 0:\n",
    "            break\n",
    "    accuracy = np.trace(RIprime) / number_of_image\n",
    "    return accuracy , Labelfunction# Label function is used for reordering labels"
   ]
  },
  {
   "cell_type": "markdown",
   "metadata": {},
   "source": [
    "## mathematical discription for computing accuracy"
   ]
  },
  {
   "cell_type": "markdown",
   "metadata": {},
   "source": [
    "### I will use F-1 score to represent accuracy\n",
    "#### since there is no image that has no label or two and more label. \n",
    "#### we can compute the F-1 = ${number\\_of\\_label\\_correect}\\over{number\\_image} $\n",
    "### how to get label function\n",
    "#### for every iteration caculating swap_potential ( more potential , more recomended for swaping)\n",
    "#### if rowswap_potential(1,2) then the label located at first is changed label located second"
   ]
  },
  {
   "cell_type": "markdown",
   "metadata": {},
   "source": [
    "## get first accuracy and append to accuarcy list "
   ]
  },
  {
   "cell_type": "code",
   "execution_count": 7,
   "metadata": {},
   "outputs": [],
   "source": [
    "accuracy_permutation = compute_accuracy(global_list_label_Kmean, global_list_label_true, global_number_of_cluster)\n",
    "global_accuracy.append(accuracy_permutation[0])# accuracy\n",
    "global_list_label_function = accuracy_permutation[1]# the label_function \n",
    "for i in range(global_num_image):# apply label_function (it does not affect clustering result but classification result)\n",
    "    global_list_label_Kmean[i] =global_list_label_function[global_list_label_Kmean[i]]"
   ]
  },
  {
   "cell_type": "markdown",
   "metadata": {},
   "source": [
    "if you replot the center it's result is differ from previous only respect to plotting order. it is not important so\n",
    "I am going  to skip re-ploting."
   ]
  },
  {
   "cell_type": "markdown",
   "metadata": {},
   "source": [
    "# Compute energy "
   ]
  },
  {
   "cell_type": "code",
   "execution_count": 8,
   "metadata": {},
   "outputs": [],
   "source": [
    "def cacuclate_energy_matrix(centroid, list_image):\n",
    "    number_of_cluster = np.shape(centroid)[1]\n",
    "    num_image = np.shape(list_image)[1]\n",
    "    distance_array = np.zeros((number_of_cluster, num_image))\n",
    "    for i in range(num_image):\n",
    "        for j in range(number_of_cluster):\n",
    "            distance_array[j, i] = distance(centroid[:, j], list_image[:, i])\n",
    "    return distance_array\n",
    "\n",
    "\n",
    "global_energy_matrix = cacuclate_energy_matrix( global_centroid, global_list_image )\n",
    "\n",
    "\n",
    "def compute_energy(energy_matrix, list_label):\n",
    "    num_image = np.shape(energy_matrix)[0]\n",
    "    energy = 0\n",
    "    for i in range(num_image):\n",
    "        energy += energy_matrix[list_label[i], i]\n",
    "    return energy\n",
    "\n",
    "previous_energy = compute_energy(global_energy_matrix, global_list_label_Kmean)\n",
    "global_energy.append(previous_energy)"
   ]
  },
  {
   "cell_type": "code",
   "execution_count": 9,
   "metadata": {},
   "outputs": [],
   "source": [
    "previous_energy = compute_energy(global_energy_matrix, global_list_label_Kmean)\n",
    "global_energy.append(previous_energy)"
   ]
  },
  {
   "cell_type": "markdown",
   "metadata": {},
   "source": [
    "# Kmean"
   ]
  },
  {
   "cell_type": "code",
   "execution_count": 12,
   "metadata": {},
   "outputs": [
    {
     "data": {
      "image/png": "[encoded data removed]",
      "text/plain": [
       "<Figure size 432x288 with 10 Axes>"
      ]
     },
     "metadata": {},
     "output_type": "display_data"
    }
   ],
   "source": [
    "def assign_label(energy_matrix):\n",
    "    num_image = np.shape(energy_matrix)[1]\n",
    "    list_label = np.empty(num_image, dtype=int)\n",
    "    for i in range(num_image):\n",
    "        list_label[i] = np.argmin(energy_matrix[:, i], axis=0)\n",
    "    return list_label\n",
    "while (True):\n",
    "    global_list_label_Kmean = assign_label(global_energy_matrix)\n",
    "    accuracy_permutation = compute_accuracy(global_list_label_Kmean, global_list_label_true, global_number_of_cluster)\n",
    "    global_accuracy.append(accuracy_permutation[0])\n",
    "    global_list_label_function = accuracy_permutation[1]\n",
    "    for i in range(global_num_image):\n",
    "        global_list_label_Kmean[i] = global_list_label_function[global_list_label_Kmean[i]]\n",
    "    global_centroid = compute_centroid(global_number_of_cluster,global_list_label_Kmean,global_list_image)\n",
    "    global_energy_matrix = cacuclate_energy_matrix( global_centroid, global_list_image )\n",
    "    current_energy = compute_energy(global_energy_matrix,global_list_label_Kmean)\n",
    "    global_energy.append(current_energy)\n",
    "    if current_energy == previous_energy:\n",
    "        break\n",
    "    previous_energy = current_energy\n",
    "f2 = plt.figure(2)\n",
    "plot_centroid_image(global_centroid)\n",
    "plt.show()"
   ]
  },
  {
   "cell_type": "markdown",
   "metadata": {},
   "source": [
    "# Energy Graph"
   ]
  },
  {
   "cell_type": "code",
   "execution_count": 22,
   "metadata": {},
   "outputs": [
    {
     "data": {
      "image/png": "[encoded data removed]",
      "text/plain": [
       "<Figure size 432x288 with 1 Axes>"
      ]
     },
     "metadata": {},
     "output_type": "display_data"
    }
   ],
   "source": [
    "countlist = []\n",
    "for i in range(len(global_energy)):\n",
    "    countlist.append(i)\n",
    "plt.plot(countlist,global_energy)\n",
    "plt.show()"
   ]
  },
  {
   "cell_type": "markdown",
   "metadata": {},
   "source": [
    "# Accuarcy Graph"
   ]
  },
  {
   "cell_type": "code",
   "execution_count": 24,
   "metadata": {},
   "outputs": [
    {
     "data": {
      "image/png": "[encoded data removed]",
      "text/plain": [
       "<Figure size 432x288 with 1 Axes>"
      ]
     },
     "metadata": {},
     "output_type": "display_data"
    }
   ],
   "source": [
    "countlist2 = []\n",
    "for i in range(len(global_accuracy)):\n",
    "    countlist2.append(i)\n",
    "plt.plot(countlist2,global_accuracy)\n",
    "plt.show()"
   ]
  },
  {
   "cell_type": "code",
   "execution_count": null,
   "metadata": {},
   "outputs": [],
   "source": []
  }
 ],
 "metadata": {
  "kernelspec": {
   "display_name": "Python 3",
   "language": "python",
   "name": "python3"
  },
  "language_info": {
   "codemirror_mode": {
    "name": "ipython",
    "version": 3
   },
   "file_extension": ".py",
   "mimetype": "text/x-python",
   "name": "python",
   "nbconvert_exporter": "python",
   "pygments_lexer": "ipython3",
   "version": "3.6.5"
  }
 },
 "nbformat": 4,
 "nbformat_minor": 2
}
